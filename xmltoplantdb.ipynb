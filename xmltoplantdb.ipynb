{
 "cells": [
  {
   "cell_type": "code",
   "execution_count": null,
   "metadata": {},
   "outputs": [],
   "source": [
    "from bs4 import BeautifulSoup\n",
    "# from lxml import etree\n",
    "\n",
    "#read tags from xml file\n",
    "with open('./plant_labels.xml', 'r') as f:\n",
    "    label_tree = f.read()\n",
    " \n",
    "# Passing the stored data inside\n",
    "# the beautifulsoup parser, storing\n",
    "# the returned object\n",
    "soup = BeautifulSoup(label_tree, \"xml\")\n",
    "#xml tree structure <Data> -> <Image> -> filename,ids, etc\n",
    "# data_element = etree.Element(\"Data\")\n"
   ]
  },
  {
   "cell_type": "markdown",
   "metadata": {},
   "source": [
    "### DataParser\n",
    "\n",
    "Read plant label xml file, parse data to be added to db and save to a dict."
   ]
  },
  {
   "cell_type": "code",
   "execution_count": null,
   "metadata": {},
   "outputs": [],
   "source": [
    "import pandas as pd\n",
    "import requests\n",
    "\n",
    "#this function reads an image tag and makes it's data a dictionary. It returns a dictionary   \n",
    "def build_row_dict(tree_data):\n",
    "\n",
    "    #build image_attributes_dict\n",
    "    #dict containing species, family, classId, etc. To be nested inside row_data_dict, paired with filenames\n",
    "    #Keys = Species, Content, Genus, Family, ObservationId, ClassId\n",
    "    #Values = associated key:val pair\n",
    "    image_attributes_list = [\"PlantId\",\"Species\", \"Content\", \"Genus\",\"Family\", \"ObservationId\",\"ClassId\" ]\n",
    "    image_attributes_values = [\n",
    "        tree_data.FileName.get_text(),\n",
    "        tree_data.Species.get_text(),\n",
    "        tree_data.Content.get_text(),\n",
    "        tree_data.Genus.get_text(),\n",
    "        tree_data.Family.get_text(),\n",
    "        tree_data.ObservationId.get_text(),\n",
    "        tree_data.ClassId.get_text()\n",
    "    ]\n",
    "    row_data_dict = { key:value for (key,value) in zip(image_attributes_list, image_attributes_values)}\n",
    "    return row_data_dict"
   ]
  },
  {
   "cell_type": "code",
   "execution_count": null,
   "metadata": {},
   "outputs": [],
   "source": [
    "#navigate through xml tree, tranverse down from \"Image\" tag to \"Imange tag\"\n",
    "\n",
    "plant_label_data_array = []\n",
    "rows= soup.find_all(\"Image\")\n",
    "\n",
    "# rows.find(\"Image\")\n",
    "for image_tag_data in rows:\n",
    "    plant_label_data_array.append(build_row_dict(image_tag_data))\n"
   ]
  },
  {
   "cell_type": "code",
   "execution_count": null,
   "metadata": {},
   "outputs": [],
   "source": [
    "plant_label_data_array"
   ]
  },
  {
   "cell_type": "markdown",
   "metadata": {},
   "source": [
    "### DataExporter\n",
    "\n",
    "Exports data to plantdb"
   ]
  },
  {
   "cell_type": "code",
   "execution_count": null,
   "metadata": {},
   "outputs": [],
   "source": [
    "from os import getenv\n",
    "from dotenv import load_dotenv\n",
    "\n",
    "load_dotenv()\n",
    "\n",
    "config = {\n",
    "    \"DB_CONNECTION_STRING\": getenv(\"DB_CONNECTION_STRING\")\n",
    "}"
   ]
  },
  {
   "cell_type": "code",
   "execution_count": null,
   "metadata": {},
   "outputs": [],
   "source": [
    "import pymongo\n",
    "import certifi\n",
    "#mongodb library\n",
    "\n",
    "myclient = pymongo.MongoClient(config[\"DB_CONNECTION_STRING\"], tlsCAFile=certifi.where())\n",
    "mydb = myclient[\"plantdb\"]\n",
    "mycol = mydb[\"plant_labels\"]\n",
    "\n",
    "mylist = plant_label_data_array\n",
    "\n",
    "x = mycol.insert_many(mylist)\n",
    "#print list of the _id values of the inserted documents:\n",
    "# print(x.inserted_ids)"
   ]
  }
 ],
 "metadata": {
  "kernelspec": {
   "display_name": "Python 3.10.2 64-bit",
   "language": "python",
   "name": "python3"
  },
  "language_info": {
   "codemirror_mode": {
    "name": "ipython",
    "version": 3
   },
   "file_extension": ".py",
   "mimetype": "text/x-python",
   "name": "python",
   "nbconvert_exporter": "python",
   "pygments_lexer": "ipython3",
   "version": "3.10.2"
  },
  "orig_nbformat": 4,
  "vscode": {
   "interpreter": {
    "hash": "aee8b7b246df8f9039afb4144a1f6fd8d2ca17a180786b69acc140d282b71a49"
   }
  }
 },
 "nbformat": 4,
 "nbformat_minor": 2
}
